{
 "cells": [
  {
   "cell_type": "code",
   "execution_count": 8,
   "id": "4e3257db",
   "metadata": {},
   "outputs": [
    {
     "name": "stdout",
     "output_type": "stream",
     "text": [
      "はじめまして、 今野宏 と申します。\n",
      "年齢は 42 歳です。来年は 43 歳になります。\n",
      "よろしくお願いします。\n"
     ]
    }
   ],
   "source": [
    "name = \"今野宏\"\n",
    "age = 42\n",
    "\n",
    "print(\"はじめまして、\", name, \"と申します。\\n年齢は\", age, \"歳です。来年は\", age+1, \"歳になります。\\nよろしくお願いします。\")\n"
   ]
  }
 ],
 "metadata": {
  "kernelspec": {
   "display_name": ".venv",
   "language": "python",
   "name": "python3"
  },
  "language_info": {
   "codemirror_mode": {
    "name": "ipython",
    "version": 3
   },
   "file_extension": ".py",
   "mimetype": "text/x-python",
   "name": "python",
   "nbconvert_exporter": "python",
   "pygments_lexer": "ipython3",
   "version": "3.12.10"
  }
 },
 "nbformat": 4,
 "nbformat_minor": 5
}
