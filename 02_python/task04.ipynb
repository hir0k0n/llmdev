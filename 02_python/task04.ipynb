{
 "cells": [
  {
   "cell_type": "code",
   "execution_count": 11,
   "id": "685c1895",
   "metadata": {},
   "outputs": [
    {
     "name": "stdout",
     "output_type": "stream",
     "text": [
      "計算結果: 10.0\n"
     ]
    }
   ],
   "source": [
    "try:\n",
    "    divided_number = int(input(\"割られる数を入力してください: \"))\n",
    "    divide_number = int(input(\"割る数を入力してください: \"))\n",
    "    result = divided_number / divide_number\n",
    "except ValueError:\n",
    "    print(\"エラー: 数値を入力してください\")\n",
    "except ZeroDivisionError:\n",
    "    print(\"エラー: 0で割ることはできません\")\n",
    "else:\n",
    "    print(f\"計算結果: {result}\")"
   ]
  }
 ],
 "metadata": {
  "kernelspec": {
   "display_name": ".venv",
   "language": "python",
   "name": "python3"
  },
  "language_info": {
   "codemirror_mode": {
    "name": "ipython",
    "version": 3
   },
   "file_extension": ".py",
   "mimetype": "text/x-python",
   "name": "python",
   "nbconvert_exporter": "python",
   "pygments_lexer": "ipython3",
   "version": "3.12.10"
  }
 },
 "nbformat": 4,
 "nbformat_minor": 5
}
