{
 "cells": [
  {
   "cell_type": "code",
   "execution_count": 1,
   "id": "0912dd90",
   "metadata": {},
   "outputs": [
    {
     "name": "stdout",
     "output_type": "stream",
     "text": [
      "0\n",
      "1\n",
      "2\n",
      "3\n",
      "4\n",
      "[1, 3, 5, 7, 9]\n"
     ]
    }
   ],
   "source": [
    "for i in range(5):         # 出力: 0 1 2 3 4\n",
    "   print(i)\n",
    "print(list(range(1, 10, 2))) # 出力: [1, 3, 5, 7, 9]"
   ]
  }
 ],
 "metadata": {
  "kernelspec": {
   "display_name": ".venv",
   "language": "python",
   "name": "python3"
  },
  "language_info": {
   "codemirror_mode": {
    "name": "ipython",
    "version": 3
   },
   "file_extension": ".py",
   "mimetype": "text/x-python",
   "name": "python",
   "nbconvert_exporter": "python",
   "pygments_lexer": "ipython3",
   "version": "3.12.10"
  }
 },
 "nbformat": 4,
 "nbformat_minor": 5
}
