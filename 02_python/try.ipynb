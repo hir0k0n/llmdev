{
 "cells": [
  {
   "cell_type": "code",
   "execution_count": 2,
   "id": "e77ec288",
   "metadata": {},
   "outputs": [
    {
     "name": "stdout",
     "output_type": "stream",
     "text": [
      "計算結果: 1.0\n",
      "プログラム終了\n"
     ]
    }
   ],
   "source": [
    "try:\n",
    "    num = int(input(\"整数を入力してください: \"))\n",
    "    result = 100 / num\n",
    "except ZeroDivisionError:\n",
    "    print(\"エラー: 0 で割ることはできません\")\n",
    "except ValueError:\n",
    "    print(\"エラー: 整数を入力してください\")\n",
    "else:\n",
    "    print(f\"計算結果: {result}\")\n",
    "finally:\n",
    "    print(\"プログラム終了\")"
   ]
  }
 ],
 "metadata": {
  "kernelspec": {
   "display_name": ".venv",
   "language": "python",
   "name": "python3"
  },
  "language_info": {
   "codemirror_mode": {
    "name": "ipython",
    "version": 3
   },
   "file_extension": ".py",
   "mimetype": "text/x-python",
   "name": "python",
   "nbconvert_exporter": "python",
   "pygments_lexer": "ipython3",
   "version": "3.12.10"
  }
 },
 "nbformat": 4,
 "nbformat_minor": 5
}
