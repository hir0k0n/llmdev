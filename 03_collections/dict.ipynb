{
 "cells": [
  {
   "cell_type": "code",
   "execution_count": 8,
   "id": "0986b62b",
   "metadata": {},
   "outputs": [
    {
     "name": "stdout",
     "output_type": "stream",
     "text": [
      "True\n",
      "False\n"
     ]
    }
   ],
   "source": [
    "fruit_prices = {\"apple\": 100, \"banana\": 200, \"cherry\": 300}\n",
    "\n",
    "# \"apple\" が辞書にあるか確認\n",
    "print(\"apple\" in fruit_prices)  # True\n",
    "\n",
    "# \"grape\" が辞書にあるか確認\n",
    "print(\"grape\" in fruit_prices)  # False"
   ]
  }
 ],
 "metadata": {
  "kernelspec": {
   "display_name": ".venv",
   "language": "python",
   "name": "python3"
  },
  "language_info": {
   "codemirror_mode": {
    "name": "ipython",
    "version": 3
   },
   "file_extension": ".py",
   "mimetype": "text/x-python",
   "name": "python",
   "nbconvert_exporter": "python",
   "pygments_lexer": "ipython3",
   "version": "3.12.10"
  }
 },
 "nbformat": 4,
 "nbformat_minor": 5
}
