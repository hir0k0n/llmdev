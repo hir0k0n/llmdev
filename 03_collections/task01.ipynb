{
 "cells": [
  {
   "cell_type": "code",
   "execution_count": 6,
   "id": "5cd8f69d",
   "metadata": {},
   "outputs": [
    {
     "name": "stdout",
     "output_type": "stream",
     "text": [
      "平均点: 86.6\n",
      "最高点: 92\n",
      "最低点: 78\n",
      "平均以上の学生数: 3\n"
     ]
    }
   ],
   "source": [
    "grades = [85, 90, 78, 92, 88]\n",
    "\n",
    "total = 0\n",
    "for grade in grades:\n",
    "    total += grade\n",
    "average_score = total / len(grades)\n",
    "\n",
    "grades.sort(reverse=True)\n",
    "highest_score = grades[0]\n",
    "\n",
    "grades.sort()\n",
    "lowest_score = grades[0]\n",
    "\n",
    "above_average = 0\n",
    "for grade in grades:\n",
    "    if grade >= average_score:\n",
    "        above_average += 1\n",
    "\n",
    "print(f\"平均点: {average_score:.1f}\")\n",
    "print(f\"最高点: {highest_score}\")\n",
    "print(f\"最低点: {lowest_score}\")\n",
    "print(f\"平均以上の学生数: {above_average}\")"
   ]
  }
 ],
 "metadata": {
  "kernelspec": {
   "display_name": ".venv",
   "language": "python",
   "name": "python3"
  },
  "language_info": {
   "codemirror_mode": {
    "name": "ipython",
    "version": 3
   },
   "file_extension": ".py",
   "mimetype": "text/x-python",
   "name": "python",
   "nbconvert_exporter": "python",
   "pygments_lexer": "ipython3",
   "version": "3.12.10"
  }
 },
 "nbformat": 4,
 "nbformat_minor": 5
}
