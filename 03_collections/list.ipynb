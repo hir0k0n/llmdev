{
 "cells": [
  {
   "cell_type": "code",
   "execution_count": 1,
   "id": "d5669b12",
   "metadata": {},
   "outputs": [
    {
     "name": "stdout",
     "output_type": "stream",
     "text": [
      "[1, 2, 3, 4, 5]\n",
      "['apple', 'banana', 'cherry']\n",
      "[1, 'apple', 3.14, True]\n",
      "[]\n"
     ]
    }
   ],
   "source": [
    "# 数値を格納したリスト\n",
    "numbers = [1, 2, 3, 4, 5]\n",
    "print(numbers) # [1, 2, 3, 4, 5]\n",
    "\n",
    "# 文字列を格納したリスト\n",
    "fruits = [\"apple\", \"banana\", \"cherry\"]\n",
    "print(fruits) # ['apple', 'banana', 'cherry']\n",
    "\n",
    "# 異なるデータ型を混在させたリスト\n",
    "mixed = [1, \"apple\", 3.14, True]\n",
    "print(mixed) # [1, 'apple', 3.14, True]\n",
    "\n",
    "# 空のリスト\n",
    "empty_list = []\n",
    "print(empty_list) # []"
   ]
  },
  {
   "cell_type": "code",
   "execution_count": 2,
   "id": "c0082651",
   "metadata": {},
   "outputs": [
    {
     "name": "stdout",
     "output_type": "stream",
     "text": [
      "['h', 'e', 'l', 'l', 'o']\n",
      "[1, 2, 3]\n",
      "[0, 1, 2, 3, 4]\n",
      "[]\n"
     ]
    }
   ],
   "source": [
    "# 文字列をリストに変換\n",
    "string_to_list = list(\"hello\")\n",
    "print(string_to_list)  # [\"h\", \"e\", \"l\", \"l\", \"o\"]\n",
    "\n",
    "# タプルをリストに変換\n",
    "tuple_to_list = list((1, 2, 3))\n",
    "print(tuple_to_list)  # [1, 2, 3]\n",
    "\n",
    "# range()関数で生成された範囲をリストに変換\n",
    "range_to_list = list(range(5))\n",
    "print(range_to_list)  # [0, 1, 2, 3, 4]\n",
    "\n",
    "# list()関数を使った空のリスト\n",
    "empty_list = list()\n",
    "print(empty_list)  # []"
   ]
  },
  {
   "cell_type": "code",
   "execution_count": 3,
   "id": "38ff7c02",
   "metadata": {},
   "outputs": [
    {
     "name": "stdout",
     "output_type": "stream",
     "text": [
      "[None, None, None, None, None]\n",
      "[0, 0, 0, 0, 0, 0, 0, 0, 0, 0]\n"
     ]
    }
   ],
   "source": [
    "# None で初期化されたリスト\n",
    "none_list = [None] * 5\n",
    "print(none_list)  # [None, None, None, None, None]\n",
    "\n",
    "# 特定の値で初期化されたリスト\n",
    "zeros = [0] * 10\n",
    "print(zeros)  # [0, 0, 0, 0, 0, 0, 0, 0, 0, 0]"
   ]
  },
  {
   "cell_type": "code",
   "execution_count": 4,
   "id": "bc84c1fd",
   "metadata": {},
   "outputs": [
    {
     "name": "stdout",
     "output_type": "stream",
     "text": [
      "[1, 2, 3]\n",
      "[1, 2, 3]\n",
      "[1, 2, 3]\n"
     ]
    }
   ],
   "source": [
    "# 元のリスト\n",
    "original = [1, 2, 3]\n",
    "\n",
    "# スライスによるコピー\n",
    "copy1 = original[:]\n",
    "print(copy1)  # [1, 2, 3]\n",
    "\n",
    "# list() 関数によるコピー\n",
    "copy2 = list(original)\n",
    "print(copy2)  # [1, 2, 3]\n",
    "\n",
    "# copy() メソッドによるコピー\n",
    "copy3 = original.copy()\n",
    "print(copy3)  # [1, 2, 3]"
   ]
  },
  {
   "cell_type": "code",
   "execution_count": 5,
   "id": "5391e633",
   "metadata": {},
   "outputs": [
    {
     "name": "stdout",
     "output_type": "stream",
     "text": [
      "元のリスト: [[100, 2], [3, 4]]\n",
      "浅いコピー: [[100, 2], [3, 4]]\n",
      "深いコピー: [[1, 2], [3, 200]]\n"
     ]
    }
   ],
   "source": [
    "import copy\n",
    "\n",
    "# 元のリスト（多次元リスト）\n",
    "original_list = [[1, 2], [3, 4]]\n",
    "\n",
    "# 浅いコピーを作成\n",
    "shallow_copied_list = copy.copy(original_list)\n",
    "# 深いコピーを作成\n",
    "deep_copied_list = copy.deepcopy(original_list)\n",
    "\n",
    "# 浅いコピーのリストを変更\n",
    "shallow_copied_list[0][0] = 100\n",
    "# 深いコピーのリストを変更\n",
    "deep_copied_list[1][1] = 200\n",
    "\n",
    "# 結果の出力\n",
    "print(\"元のリスト:\", original_list)             \n",
    "print(\"浅いコピー:\", shallow_copied_list)       \n",
    "# → 浅いコピーの変更が元のリストに影響している\n",
    "\n",
    "print(\"深いコピー:\", deep_copied_list)         \n",
    "# → 深いコピーの変更は元のリストには影響しない"
   ]
  }
 ],
 "metadata": {
  "kernelspec": {
   "display_name": ".venv",
   "language": "python",
   "name": "python3"
  },
  "language_info": {
   "codemirror_mode": {
    "name": "ipython",
    "version": 3
   },
   "file_extension": ".py",
   "mimetype": "text/x-python",
   "name": "python",
   "nbconvert_exporter": "python",
   "pygments_lexer": "ipython3",
   "version": "3.12.10"
  }
 },
 "nbformat": 4,
 "nbformat_minor": 5
}
