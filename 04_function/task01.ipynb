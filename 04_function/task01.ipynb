{
 "cells": [
  {
   "cell_type": "code",
   "execution_count": 22,
   "id": "cef1e918",
   "metadata": {},
   "outputs": [
    {
     "name": "stdout",
     "output_type": "stream",
     "text": [
      "エラー: ユーザー名に空白を含めることはできません\n",
      "不正なユーザー名です\n"
     ]
    }
   ],
   "source": [
    "def validate(user_name):\n",
    "    user_name_len = len(user_name)\n",
    "    \n",
    "    if not (user_name_len >= 5 and user_name_len <=15):\n",
    "        print(\"エラー: ユーザー名は5文字以上15文字以内で入力してください\")\n",
    "        return False\n",
    "    elif \" \" in user_name:\n",
    "        print(\"エラー: ユーザー名に空白を含めることはできません\")\n",
    "        return False\n",
    "    elif not user_name.isalnum():\n",
    "        print(\"エラー: ユーザー名は英数字のみ使用できます\")\n",
    "        return False\n",
    "    else:\n",
    "        print(\"ユーザー名は有効です\")\n",
    "        return True\n",
    "\n",
    "name = input(\"ユーザー名を入力して下さい:\")\n",
    "\n",
    "if not validate(name):\n",
    "    print(\"不正なユーザー名です\")"
   ]
  }
 ],
 "metadata": {
  "kernelspec": {
   "display_name": ".venv",
   "language": "python",
   "name": "python3"
  },
  "language_info": {
   "codemirror_mode": {
    "name": "ipython",
    "version": 3
   },
   "file_extension": ".py",
   "mimetype": "text/x-python",
   "name": "python",
   "nbconvert_exporter": "python",
   "pygments_lexer": "ipython3",
   "version": "3.12.10"
  }
 },
 "nbformat": 4,
 "nbformat_minor": 5
}
