{
 "cells": [
  {
   "cell_type": "code",
   "execution_count": 6,
   "id": "7c5bf45e",
   "metadata": {},
   "outputs": [
    {
     "name": "stdout",
     "output_type": "stream",
     "text": [
      "Content saved in: 20250812_181703.txt\n"
     ]
    }
   ],
   "source": [
    "import urllib.request\n",
    "import datetime\n",
    "\n",
    "def save_url_content(url):\n",
    "    response = urllib.request.urlopen(url)\n",
    "    html = response.read().decode(\"utf-8\")\n",
    "    save_data = html[:500]\n",
    "\n",
    "    now = datetime.datetime.now()\n",
    "    file_name = now.strftime(\"%Y%m%d_%H%M%S.txt\")\n",
    "    with open(file_name, \"w\", encoding=\"utf-8\") as file:\n",
    "        file.writelines(save_data)\n",
    "    return file_name\n",
    "\n",
    "url = input(\"URLを入力してください: \")\n",
    "file_name = save_url_content(url)\n",
    "print(f\"Content saved in: {file_name}\")"
   ]
  }
 ],
 "metadata": {
  "kernelspec": {
   "display_name": ".venv",
   "language": "python",
   "name": "python3"
  },
  "language_info": {
   "codemirror_mode": {
    "name": "ipython",
    "version": 3
   },
   "file_extension": ".py",
   "mimetype": "text/x-python",
   "name": "python",
   "nbconvert_exporter": "python",
   "pygments_lexer": "ipython3",
   "version": "3.12.10"
  }
 },
 "nbformat": 4,
 "nbformat_minor": 5
}
