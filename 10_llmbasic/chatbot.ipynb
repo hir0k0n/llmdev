{
 "cells": [
  {
   "cell_type": "code",
   "execution_count": 1,
   "id": "9777563f",
   "metadata": {},
   "outputs": [],
   "source": [
    "# 必要なモジュールをインポート\n",
    "import os\n",
    "from dotenv import load_dotenv\n",
    "from openai import OpenAI\n",
    "from pprint import pprint\n",
    "\n",
    "# 環境変数の取得\n",
    "load_dotenv(\"../.env\")\n",
    "\n",
    "# OpenAI APIクライアントを生成\n",
    "client = OpenAI(api_key=os.environ['API_KEY'])\n",
    "\n",
    "# モデル名\n",
    "MODEL_NAME = \"gpt-4o-mini\""
   ]
  },
  {
   "cell_type": "code",
   "execution_count": 2,
   "id": "31730748",
   "metadata": {},
   "outputs": [
    {
     "data": {
      "text/plain": [
       "'質問:こんにちは'"
      ]
     },
     "metadata": {},
     "output_type": "display_data"
    },
    {
     "name": "stdout",
     "output_type": "stream",
     "text": [
      "こんにちは！何かお手伝いできることがありますか？"
     ]
    },
    {
     "data": {
      "text/plain": [
       "'質問:初心者にオススメのプログラミング言語を3つ教えて'"
      ]
     },
     "metadata": {},
     "output_type": "display_data"
    },
    {
     "name": "stdout",
     "output_type": "stream",
     "text": [
      "初心者にオススメのプログラミング言語を3つご紹介します。\n",
      "\n",
      "1. **Python**:\n",
      "   - **特徴**: シンプルで読みやすい構文が特徴で、初心者が理解しやすい言語です。多くのライブラリやフレームワークがあり、データ分析、機械学習、Web開発など多岐にわたる分野で利用されています。\n",
      "   - **学習資源**: 多くのオンラインコースや書籍があり、コミュニティも活発です。\n",
      "\n",
      "2. **JavaScript**:\n",
      "   - **特徴**: Web開発において非常に重要な言語で、ブラウザ上で動作するプログラムを作成するために使われます。HTMLやCSSと組み合わせて、インタラクティブなWebサイトを作成できます。\n",
      "   - **学習資源**: 無料の教材やチュートリアルが豊富にあり、実際にWebサイトを作ることで学習を深められます。\n",
      "\n",
      "3. **Scratch**:\n",
      "   - **特徴**: プログラミングを視覚的に学ぶための言語で、特に子供やプログラミング初心者に適しています。ブロックを組み合わせることでプログラムを作成するため、コードを書くことなく楽しみながら学ぶことができます。\n",
      "   - **学習資源**:オンラインで簡単に始められるプロジェクトがたくさんあり、コミュニティも活発です。\n",
      "\n",
      "これらの言語は、それぞれ異なる分野や目的に適しているため、自分の興味に合ったものを選ぶと良いでしょう！\n",
      "---ご利用ありがとうございました！---\n"
     ]
    }
   ],
   "source": [
    "# メッセージを格納するリスト\n",
    "messages=[]\n",
    "\n",
    "while(True):\n",
    "    # ユーザーからの質問を受付\n",
    "    message = input(\"メッセージを入力:\")\n",
    "    # 質問が入力されなければ終了\n",
    "    if message.strip()==\"\":\n",
    "        break\n",
    "    display(f\"質問:{message}\")\n",
    "\n",
    "    # メッセージにユーザーからの質問を追加\n",
    "    messages.append({\"role\": \"user\", \"content\": message.strip()})\n",
    "    # やりとりが8を超えたら古いメッセージから削除\n",
    "    if len(messages) > 8:\n",
    "        del_message = messages.pop(0)\n",
    "\n",
    "    # APIへリクエスト\n",
    "    stream = client.chat.completions.create(\n",
    "        model=MODEL_NAME,\n",
    "        messages=messages,\n",
    "        stream=True,\n",
    "    )\n",
    "\n",
    "    # 言語モデルからの回答を表示\n",
    "    response_message = \"\"\n",
    "    for chunk in stream:\n",
    "        if chunk.choices:\n",
    "            next = chunk.choices[0].delta.content\n",
    "            if next is not None:\n",
    "                response_message += next\n",
    "                print(next, end='', flush=True)\n",
    "\n",
    "    # メッセージに言語モデルからの回答を追加\n",
    "    messages.append({\"role\": \"assistant\", \"content\": response_message})\n",
    "\n",
    "print(\"\\n---ご利用ありがとうございました！---\")"
   ]
  }
 ],
 "metadata": {
  "kernelspec": {
   "display_name": ".venv",
   "language": "python",
   "name": "python3"
  },
  "language_info": {
   "codemirror_mode": {
    "name": "ipython",
    "version": 3
   },
   "file_extension": ".py",
   "mimetype": "text/x-python",
   "name": "python",
   "nbconvert_exporter": "python",
   "pygments_lexer": "ipython3",
   "version": "3.12.10"
  }
 },
 "nbformat": 4,
 "nbformat_minor": 5
}
