{
 "cells": [
  {
   "cell_type": "code",
   "execution_count": 3,
   "id": "ed135212",
   "metadata": {},
   "outputs": [
    {
     "name": "stdout",
     "output_type": "stream",
     "text": [
      "{'_request_id': 'req_77d68ecb659d4a04ba5033935bedeffa',\n",
      " 'choices': [Choice(finish_reason='stop', index=0, logprobs=None, message=ChatCompletionMessage(content='言語モデルを使う上でのポイントはいくつかあります。以下に主なポイントを挙げます。\\n\\n1. **目的の明確化**: 何のために言語モデルを使用するのかを明確にすることが重要です。例えば、テキスト生成、質問応答、翻訳、要約など、目的によってモデルの使い方が変わります。\\n\\n2. **適切なプロンプト設計**: 入力するプロンプト（問いかけや指示）の設計が結果に大きく影響します。具体的で明確なプロンプトを使用することで、モデルから得られる情報の質が向上します。\\n\\n3. **コンテキストの提供**: モデルに十分なコンテキストを提供することで、より有意義な応答を得ることができます。必要に応じて背景情報や詳細を含めると良いでしょう。\\n\\n4. **反復とフィードバック**: モデルの出力が期待通りでない場合、プロンプトを調整したり、異なるアプローチを試すことが重要です。また、出力の品質を向上させるためにフィードバックを活用しましょう。\\n\\n5. **限界の理解**: 言語モデルには限界があります。例えば、最新の情報を持っていなかったり、事実に基づかない情報を生成することがあります。判断力を持って使用することが求められます。\\n\\n6. **倫理的配慮**: 言語モデルを利用する際には、プライバシーやデータの取り扱い、偏見の問題など、倫理的な側面にも注意が必要です。適切なガイドラインに従い、責任をもって利用しましょう。\\n\\n7. **技術のアップデートに追随**: 言語モデルは日々進化しています。最新の技術やベストプラクティスを学び、適切に取り入れることが役立ちます。\\n\\nこれらのポイントを考慮することで、言語モデルをより効果的に活用できるでしょう。', refusal=None, role='assistant', audio=None, function_call=None, tool_calls=None, annotations=[]))],\n",
      " 'created': 1755221933,\n",
      " 'id': 'chatcmpl-C4dh75gQoVBzQeFT8pF5EEUzhMcd0',\n",
      " 'model': 'gpt-4o-mini-2024-07-18',\n",
      " 'object': 'chat.completion',\n",
      " 'service_tier': 'default',\n",
      " 'system_fingerprint': 'fp_560af6e559',\n",
      " 'usage': CompletionUsage(completion_tokens=491, prompt_tokens=18, total_tokens=509, completion_tokens_details=CompletionTokensDetails(accepted_prediction_tokens=0, audio_tokens=0, reasoning_tokens=0, rejected_prediction_tokens=0), prompt_tokens_details=PromptTokensDetails(audio_tokens=0, cached_tokens=0))}\n",
      "言語モデルを使う上でのポイントはいくつかあります。以下に主なポイントを挙げます。\n",
      "\n",
      "1. **目的の明確化**: 何のために言語モデルを使用するのかを明確にすることが重要です。例えば、テキスト生成、質問応答、翻訳、要約など、目的によってモデルの使い方が変わります。\n",
      "\n",
      "2. **適切なプロンプト設計**: 入力するプロンプト（問いかけや指示）の設計が結果に大きく影響します。具体的で明確なプロンプトを使用することで、モデルから得られる情報の質が向上します。\n",
      "\n",
      "3. **コンテキストの提供**: モデルに十分なコンテキストを提供することで、より有意義な応答を得ることができます。必要に応じて背景情報や詳細を含めると良いでしょう。\n",
      "\n",
      "4. **反復とフィードバック**: モデルの出力が期待通りでない場合、プロンプトを調整したり、異なるアプローチを試すことが重要です。また、出力の品質を向上させるためにフィードバックを活用しましょう。\n",
      "\n",
      "5. **限界の理解**: 言語モデルには限界があります。例えば、最新の情報を持っていなかったり、事実に基づかない情報を生成することがあります。判断力を持って使用することが求められます。\n",
      "\n",
      "6. **倫理的配慮**: 言語モデルを利用する際には、プライバシーやデータの取り扱い、偏見の問題など、倫理的な側面にも注意が必要です。適切なガイドラインに従い、責任をもって利用しましょう。\n",
      "\n",
      "7. **技術のアップデートに追随**: 言語モデルは日々進化しています。最新の技術やベストプラクティスを学び、適切に取り入れることが役立ちます。\n",
      "\n",
      "これらのポイントを考慮することで、言語モデルをより効果的に活用できるでしょう。\n"
     ]
    }
   ],
   "source": [
    "# 必要なモジュールをインポート\n",
    "import os\n",
    "from dotenv import load_dotenv\n",
    "from openai import OpenAI\n",
    "from pprint import pprint\n",
    "\n",
    "# 環境変数の取得\n",
    "load_dotenv(\"../.env\")\n",
    "\n",
    "# OpenAI APIクライアントを生成\n",
    "client = OpenAI(api_key=os.environ['API_KEY'])\n",
    "\n",
    "# モデル名\n",
    "MODEL_NAME = \"gpt-4o-mini\"\n",
    "\n",
    "# メッセージの設定\n",
    "message = \"言語モデルを使う上でのポイントは\"\n",
    "\n",
    "# APIへリクエスト\n",
    "response = client.chat.completions.create(\n",
    "    model=MODEL_NAME,\n",
    "    messages=[\n",
    "        {\"role\": \"user\", \"content\": message},\n",
    "    ]\n",
    ")\n",
    "\n",
    "# レスポンスの表示\n",
    "pprint(vars(response))\n",
    "\n",
    "print(response.choices[0].message.content.strip())"
   ]
  },
  {
   "cell_type": "code",
   "execution_count": 4,
   "id": "99c0029d",
   "metadata": {},
   "outputs": [
    {
     "name": "stdout",
     "output_type": "stream",
     "text": [
      "新製品の発売に向けた効果的なマーケティング戦略には、以下のステップを含むことが重要です。\n",
      "\n",
      "### 1. ターゲット市場の特定\n",
      "- **市場調査**: 新製品がどの市場セグメントに適しているかを調査し、ターゲットオーディエンスを特定します。\n",
      "- **ペルソナ作成**: 細分化されたペルソナを作成し、そのニーズや好みを把握します。\n",
      "\n",
      "### 2. 製品の価値提案の明確化\n",
      "- **独自のセールスポイント（USP）**: 製品の特長、利点、他製品との差別化要因を明確にします。\n",
      "- **物語性の構築**: 製品にまつわるストーリーを作り、感情的なつながりを形成します。\n",
      "\n",
      "### 3. プレマーケティングキャンペーンの展開\n",
      "- **ティーザーキャンペーン**: 発売前に興味を引くための予告情報を配信します。SNSやブログで話題を集めます。\n",
      "- **インフルエンサーとのコラボレーション**: 業界のインフルエンサーに製品を試してもらい、彼らのフォロワーと共有してもらいます。\n",
      "\n",
      "### 4. マルチチャネルでのプロモーション\n",
      "- **デジタルマーケティング**: SEO、PPC広告、ソーシャルメディア広告を駆使して、広範囲にアプローチします。\n",
      "- **コンテンツマーケティング**: ブログ記事や動画で製品の利用シーンを紹介し、価値を提供します。\n",
      "\n",
      "### 5. 発売イベントの実施\n",
      "- **ローンチイベント**: オンラインまたはオフラインでの発売イベントを開催し、製品のデモやプレゼンテーションを行います。\n",
      "- **メディアへのプレスリリース**: 新製品の特長を伝えるプレスリリースを発表し、メディアに露出を促します。\n",
      "\n",
      "### 6. フィードバックと改善\n",
      "- **顧客の意見を収集**: 発売後に顧客からのフィードバックを収集し、必要に応じて製品やマーケティング戦略を改善します。\n",
      "- **アナリティクスの活用**: マーケティング施策の効果を分析し、次の施策に活かします。\n",
      "\n",
      "### 7. 継続的なエンゲージメント\n",
      "- **フォローアップ**: 購入後のフォローアップやカスタマーサポートを提供し、顧客と長期的な関係を築きます。\n",
      "- **ロイヤルティプログラム**: リピーターを増やすための特典や割引キャンペーンを展開します。\n",
      "\n",
      "この戦略を通じて、新製品の認知度を高め、販売促進につなげることが可能です。\n"
     ]
    }
   ],
   "source": [
    "# 役割や前提の設定\n",
    "role = \"あなたはマーケティング分野に精通したビジネスコンサルタントです。企業の成長をサポートするために、効果的なマーケティング戦略を提供します。\"\n",
    "\n",
    "# メッセージの設定\n",
    "message = \"新製品の発売に向けた効果的なマーケティング戦略を教えてください。\"\n",
    "\n",
    "# APIへリクエスト\n",
    "response = client.chat.completions.create(\n",
    "    model=MODEL_NAME,\n",
    "    messages=[\n",
    "        {\"role\": \"system\", \"content\": role},\n",
    "        {\"role\": \"user\", \"content\": message},\n",
    "    ],\n",
    ")\n",
    "\n",
    "# 言語モデルからの回答を表示\n",
    "print(response.choices[0].message.content.strip())"
   ]
  },
  {
   "cell_type": "code",
   "execution_count": 5,
   "id": "8644f096",
   "metadata": {},
   "outputs": [
    {
     "name": "stdout",
     "output_type": "stream",
     "text": [
      "--------------------\n",
      "日本には多くの魅力がありますので、いくつか紹介しますね。\n",
      "\n",
      "1. **歴史と文化**: 日本には古い歴史があり、神社や寺、お城などの歴史的な建造物が多く存在します。例えば、京都の金閣寺や奈良の東大寺などはその代表です。また、伝統的な祭りや芸能（能や歌舞伎）も文化的にも\n",
      "--------------------\n",
      "日本の魅力は多岐にわたり、多くの観光客や文化愛好者を惹きつけています。以下にいくつかの際立ったポイントをご紹介します。\n",
      "\n",
      "### 1. 美しい自然\n",
      "日本は四季ががはっきりしており、それぞれの季節に様々な自然の美しさが楽しめます。春には桜、夏は緑に囲まれた\n",
      "--------------------\n",
      "もちろん！日本は豊かな文化、独自の伝統、美しい自然が楽しめる魅力的な国です。いくつかのポイントを紹介しますね。\n",
      "\n",
      "### 1. 自然の美\n",
      "- **四季折々の風景**：桜の春、青々とした山々の夏、紅葉の秋、雪景色の冬と、季節ごとの素晴らしい景色が楽しめます。\n",
      "-\n"
     ]
    }
   ],
   "source": [
    "# 出力の多様性\n",
    "message = \"日本の魅力を紹介して！\"\n",
    "\n",
    "# APIへリクエスト\n",
    "response = client.chat.completions.create(\n",
    "    model=MODEL_NAME,\n",
    "    messages=[\n",
    "        {\"role\": \"user\", \"content\": message},\n",
    "    ],\n",
    "    temperature=1.4,\n",
    "    n = 3, # 3回答を得る\n",
    "    max_completion_tokens = 100 # 出力トークン長を制限\n",
    ")\n",
    "\n",
    "# 結果を表示（複数回答を比較）\n",
    "for choice in response.choices:\n",
    "    print(\"-\" * 20)\n",
    "    print(choice.message.content.strip())"
   ]
  },
  {
   "cell_type": "code",
   "execution_count": 6,
   "id": "4465d997",
   "metadata": {},
   "outputs": [
    {
     "name": "stdout",
     "output_type": "stream",
     "text": [
      "--------------------\n",
      "もちろん、日本の魅力をいくつか紹介しますね。\n",
      "\n",
      "### 自然の美\n",
      "日本は美しい自然に恵まれています。四季折々の風景が楽しめ、春の桜、夏の緑、秋の紅葉、冬の雪景色など、どの季節にもそれぞれの魅力があります。特に、山や海、湖、温泉など、自然を楽しむ場所が豊富です\n",
      "--------------------\n",
      "もちろん、日本の魅力はたくさんあります！いくつかのポイントを挙げてみますね。\n",
      "\n",
      "1. **自然の美**：日本は四季折々の美しい自然を楽しむことができます。春の桜、夏の緑、秋の紅葉、冬の雪景色はどれも美しく、都会の中でも自然を身近に感じられます。\n",
      "\n",
      "2. **文化と歴史**\n",
      "--------------------\n",
      "日本は多様な魅力にあふれる国です。以下にいくつかのポイントを紹介します。\n",
      "\n",
      "### 1. 文化と歴史\n",
      "日本は古代からの豊かな歴史を有しており、伝統文化や祭りが数多く残っています。例えば、和食、茶道、武道、伝統的な祭り（お祭り）や着物は、いずれも日本の文化の\n"
     ]
    }
   ],
   "source": [
    "# 出力の多様性\n",
    "message = \"日本の魅力を紹介して！\"\n",
    "\n",
    "# APIへリクエスト\n",
    "response = client.chat.completions.create(\n",
    "    model=MODEL_NAME,\n",
    "    messages=[\n",
    "        {\"role\": \"user\", \"content\": message},\n",
    "    ],\n",
    "    presence_penalty=-2.0,\n",
    "    n = 3, # 3回答を得る\n",
    "    max_completion_tokens = 100 # 出力トークン長を制限\n",
    ")\n",
    "\n",
    "# 結果を表示（複数回答を比較）\n",
    "for choice in response.choices:\n",
    "    print(\"-\" * 20)\n",
    "    print(choice.message.content.strip())"
   ]
  },
  {
   "cell_type": "code",
   "execution_count": 7,
   "id": "d18214ab",
   "metadata": {},
   "outputs": [
    {
     "name": "stdout",
     "output_type": "stream",
     "text": [
      "tokens_count=2\n",
      "tokens=[95839, 3393]\n"
     ]
    }
   ],
   "source": [
    "import tiktoken\n",
    "from tiktoken.core import Encoding\n",
    "\n",
    "# OpenAI APIの特定のモデルに対応するトークナイザーを取得\n",
    "encoding: Encoding = tiktoken.encoding_for_model(MODEL_NAME) # o200k_base\n",
    "\n",
    "# テキストをトークンIDのリストに変換\n",
    "tokens = encoding.encode(\"こんにちは！\")\n",
    "tokens_count = len(tokens)\n",
    "\n",
    "# トークンの長さとトークンIDを表示\n",
    "print(f\"{tokens_count=}\")\n",
    "print(f\"{tokens=}\")"
   ]
  },
  {
   "cell_type": "code",
   "execution_count": 8,
   "id": "391b4011",
   "metadata": {},
   "outputs": [
    {
     "name": "stdout",
     "output_type": "stream",
     "text": [
      "--------------------\n",
      "B:こんにちは！Aさん、元気ですか？\n",
      "--------------------\n",
      "B:こんにちは！Aさん、最近どうですか？\n",
      "--------------------\n",
      "B:こんにちは！Aさん、最近どうですか？\n"
     ]
    }
   ],
   "source": [
    "# トークンの選択度合い\n",
    "message = \"\"\"\n",
    "AさんとBさんで会話してください。\n",
    "A:あ、Bさんだ。\n",
    "B:\n",
    "\"\"\"\n",
    "\n",
    "# APIへリクエスト\n",
    "response = client.chat.completions.create(\n",
    "    model=MODEL_NAME,\n",
    "    messages=[\n",
    "        {\"role\": \"user\", \"content\": message},\n",
    "    ],\n",
    "    max_tokens=100,\n",
    "    n=3,\n",
    "    logit_bias = {95839:8, 3393:8}\n",
    ")\n",
    "\n",
    "# 結果を表示\n",
    "for choice in response.choices:\n",
    "    print(\"-\" * 20)\n",
    "    print(choice.message.content.strip())\n"
   ]
  },
  {
   "cell_type": "code",
   "execution_count": 9,
   "id": "e6786db8",
   "metadata": {},
   "outputs": [
    {
     "name": "stdout",
     "output_type": "stream",
     "text": [
      "言語モデルを効果的に活用するためのポイントはいくつかあります。\n",
      "\n",
      "1. **明確な質問をする**: モデルに対して具体的で明確な質問や要求をすることで、より的確な回答を得やすくなります。\n",
      "\n",
      "2. **コンテキストを提供する**: 追加の情報や背景を提供することで、モデルがより関連性のある回答を生成しやすくなります。\n",
      "\n",
      "3. **プロンプトの工夫**: 自分が求める情報に応じて、プロンプト（指示文）を調整することで、出力の質を向上させることができます。\n",
      "\n",
      "4. **出力の検証**: 提供された情報が正確かどうか、自分自身で確認することが重要です。モデルは誤情報を生成することがあります。\n",
      "\n",
      "5. **反復とフィードバック**: 初回の回答が満足いくものでない場合は、質問を再構成したり、別のアプローチを試してみると良いでしょう。\n",
      "\n",
      "6. **限界を理解する**: 言語モデルには限界があります。特に、特定の専門分野に関する情報や最新のニュースについては注意が必要です。\n",
      "\n",
      "7. **クリエイティブな利用**: 文書作成、アイデア出し、プログラミング支援など、さまざまな用途に利用できます。幅広い活用法を試してみることで、より有効な使い方が見つかるかもしれません。\n",
      "\n",
      "8. **倫理的な考慮**: モデルの出力に注意し、偏見や不適切な内容が含まれていないかを確認することが重要です。また、利用する際のプライバシーやセキュリティにも配慮する必要があります。\n",
      "\n",
      "これらのポイントを考慮することで、言語モデルをより効果的に活用できるでしょう。"
     ]
    }
   ],
   "source": [
    "# メッセージの設定\n",
    "message = \"言語モデルを使う上でのポイントは\"\n",
    "\n",
    "# APIへリクエスト\n",
    "stream = client.chat.completions.create(\n",
    "    model=MODEL_NAME,\n",
    "    messages=[\n",
    "        {\"role\": \"user\", \"content\": message},\n",
    "    ],\n",
    "    stream=True,\n",
    ")\n",
    "\n",
    "for chunk in stream:\n",
    "    if chunk.choices:\n",
    "        if chunk.choices[0].delta.content is not None:\n",
    "            print(chunk.choices[0].delta.content, end=\"\")"
   ]
  }
 ],
 "metadata": {
  "kernelspec": {
   "display_name": ".venv",
   "language": "python",
   "name": "python3"
  },
  "language_info": {
   "codemirror_mode": {
    "name": "ipython",
    "version": 3
   },
   "file_extension": ".py",
   "mimetype": "text/x-python",
   "name": "python",
   "nbconvert_exporter": "python",
   "pygments_lexer": "ipython3",
   "version": "3.12.10"
  }
 },
 "nbformat": 4,
 "nbformat_minor": 5
}
